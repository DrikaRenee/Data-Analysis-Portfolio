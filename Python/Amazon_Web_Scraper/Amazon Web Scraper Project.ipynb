{
 "cells": [
  {
   "cell_type": "code",
   "execution_count": 17,
   "id": "cdd5886b",
   "metadata": {},
   "outputs": [],
   "source": [
    "#import libraries\n",
    "from bs4 import BeautifulSoup\n",
    "import requests\n",
    "import time\n",
    "import datetime\n",
    "import csv\n",
    "import pandas as pd\n"
   ]
  },
  {
   "cell_type": "code",
   "execution_count": 15,
   "id": "6fb81717",
   "metadata": {},
   "outputs": [
    {
     "name": "stdout",
     "output_type": "stream",
     "text": [
      "Match Men's Wild Cargo Pants\n",
      "39.99\n",
      "4.3 out of 5 stars\n"
     ]
    }
   ],
   "source": [
    "#Connect to site\n",
    "url = 'https://www.amazon.com/dp/B09PBKTLP3?ref_=cm_sw_r_cp_ud_dp_MV1G9TW7RARVVK3CMZ21&th=1'\n",
    "#get user agent from httpbin.org/get\n",
    "headers = {\"User-Agent\": \"Mozilla/5.0 (Macintosh; Intel Mac OS X 10_15_7) AppleWebKit/537.36 (KHTML, like Gecko) Chrome/108.0.0.0 Safari/537.36\"}\n",
    "page = requests.get(url, headers=headers, cookies={'__hs_opt_out': 'no'})\n",
    "\n",
    "soup1 = BeautifulSoup(page.content, \"html.parser\")\n",
    "\n",
    "title = soup1.find(id='productTitle').get_text().strip()\n",
    "price = soup1.find('span',class_='a-offscreen').get_text().replace(\"$\",\"\")\n",
    "rating = soup1.find(\"i\", attrs={'class':'a-icon a-icon-star a-star-4-5'}).string.strip()\n",
    "print(title)\n",
    "print(price)\n",
    "print(rating)\n",
    "\n"
   ]
  },
  {
   "cell_type": "code",
   "execution_count": 16,
   "id": "9fb57976",
   "metadata": {},
   "outputs": [
    {
     "name": "stdout",
     "output_type": "stream",
     "text": [
      "2023-01-13\n"
     ]
    }
   ],
   "source": [
    "#create output timestamp\n",
    "today=datetime.date.today()\n",
    "print(today)"
   ]
  },
  {
   "cell_type": "code",
   "execution_count": 18,
   "id": "86ee0999",
   "metadata": {},
   "outputs": [
    {
     "name": "stdout",
     "output_type": "stream",
     "text": [
      "                          Title  Price              Rating        Date\n",
      "0  Match Men's Wild Cargo Pants  39.99  4.3 out of 5 stars  2023-01-13\n"
     ]
    }
   ],
   "source": [
    "#create csv and write headers and data into file\n",
    "header = ['Title', 'Price', 'Rating','Date']\n",
    "data = [title,price,rating,today]\n",
    "\n",
    "with open('AmazonWebScraperDataset.csv', 'w', newline='', encoding='UTF8') as f:\n",
    "    writer = csv.writer(f)\n",
    "    writer.writerow(header)\n",
    "    writer.writerow(data)\n",
    "\n",
    "df1=pd.read_csv(r'/Users/drika/AmazonWebScraperDataset.csv')    \n",
    "print(df1)\n",
    "    \n"
   ]
  },
  {
   "cell_type": "code",
   "execution_count": 20,
   "id": "16937ce3",
   "metadata": {},
   "outputs": [],
   "source": [
    "#append data to csv\n",
    "with open('AmazonWebScraperDataset.csv', 'a+', newline='', encoding='UTF8') as f:\n",
    "    writer = csv.writer(f)\n",
    "    writer.writerow(data)"
   ]
  },
  {
   "cell_type": "code",
   "execution_count": 21,
   "id": "e28e999e",
   "metadata": {},
   "outputs": [],
   "source": [
    "#create function\n",
    "def amazon_scraper():\n",
    "    url = 'https://www.amazon.com/dp/B09PBKTLP3?ref_=cm_sw_r_cp_ud_dp_MV1G9TW7RARVVK3CMZ21&th=1'\n",
    "    headers = {\"User-Agent\": \"Mozilla/5.0 (Macintosh; Intel Mac OS X 10_15_7) AppleWebKit/537.36 (KHTML, like Gecko) Chrome/108.0.0.0 Safari/537.36\"}\n",
    "    page = requests.get(url, headers=headers, cookies={'__hs_opt_out': 'no'})\n",
    "    soup1 = BeautifulSoup(page.content, \"html.parser\")\n",
    "    title = soup1.find(id='productTitle').get_text().strip()\n",
    "    price = soup1.find('span',class_='a-offscreen').get_text().replace(\"$\",\"\")\n",
    "    rating = soup1.find(\"i\", attrs={'class':'a-icon a-icon-star a-star-4-5'}).string.strip()\n",
    "    \n",
    "    import datetime\n",
    "    today=datetime.date.today()\n",
    "    \n",
    "    import csv\n",
    "    header = ['Title', 'Price', 'Rating','Date']\n",
    "    data = [title,price,rating,today]\n",
    "    \n",
    "    with open('AmazonWebScraperDataset.csv', 'a+', newline='', encoding='UTF8') as f:\n",
    "        writer = csv.writer(f)\n",
    "        writer.writerow(data)\n"
   ]
  },
  {
   "cell_type": "code",
   "execution_count": 22,
   "id": "e7954cef",
   "metadata": {},
   "outputs": [
    {
     "ename": "KeyboardInterrupt",
     "evalue": "",
     "output_type": "error",
     "traceback": [
      "\u001b[0;31m---------------------------------------------------------------------------\u001b[0m",
      "\u001b[0;31mKeyboardInterrupt\u001b[0m                         Traceback (most recent call last)",
      "Input \u001b[0;32mIn [22]\u001b[0m, in \u001b[0;36m<cell line: 3>\u001b[0;34m()\u001b[0m\n\u001b[1;32m      2\u001b[0m \u001b[38;5;28;01mwhile\u001b[39;00m(\u001b[38;5;28;01mTrue\u001b[39;00m):\n\u001b[1;32m      3\u001b[0m     amazon_scraper()\n\u001b[0;32m----> 4\u001b[0m     \u001b[43mtime\u001b[49m\u001b[38;5;241;43m.\u001b[39;49m\u001b[43msleep\u001b[49m\u001b[43m(\u001b[49m\u001b[38;5;241;43m86400\u001b[39;49m\u001b[43m)\u001b[49m\n",
      "\u001b[0;31mKeyboardInterrupt\u001b[0m: "
     ]
    }
   ],
   "source": [
    "#run function after set time and inputs into csv\n",
    "while(True):\n",
    "    amazon_scraper()\n",
    "    time.sleep(86400)"
   ]
  },
  {
   "cell_type": "code",
   "execution_count": 23,
   "id": "7415b0e6",
   "metadata": {},
   "outputs": [
    {
     "name": "stdout",
     "output_type": "stream",
     "text": [
      "                          Title  Price              Rating        Date\n",
      "0  Match Men's Wild Cargo Pants  39.99  4.3 out of 5 stars  2023-01-13\n",
      "1  Match Men's Wild Cargo Pants  39.99  4.3 out of 5 stars  2023-01-13\n",
      "2  Match Men's Wild Cargo Pants  39.99  4.3 out of 5 stars  2023-01-13\n"
     ]
    }
   ],
   "source": [
    "df=pd.read_csv(r'/Users/drika/AmazonWebScraperDataset.csv')    \n",
    "print(df)"
   ]
  },
  {
   "cell_type": "code",
   "execution_count": 24,
   "id": "c03cc7de",
   "metadata": {},
   "outputs": [],
   "source": []
  },
  {
   "cell_type": "code",
   "execution_count": null,
   "id": "2e16ea58",
   "metadata": {},
   "outputs": [],
   "source": []
  }
 ],
 "metadata": {
  "kernelspec": {
   "display_name": "Python 3 (ipykernel)",
   "language": "python",
   "name": "python3"
  },
  "language_info": {
   "codemirror_mode": {
    "name": "ipython",
    "version": 3
   },
   "file_extension": ".py",
   "mimetype": "text/x-python",
   "name": "python",
   "nbconvert_exporter": "python",
   "pygments_lexer": "ipython3",
   "version": "3.9.12"
  }
 },
 "nbformat": 4,
 "nbformat_minor": 5
}
